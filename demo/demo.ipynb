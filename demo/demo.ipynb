{
 "cells": [
  {
   "cell_type": "code",
   "execution_count": null,
   "metadata": {},
   "outputs": [],
   "source": [
    "# composite image generation by copy-and-paste followed by image blending.\n",
    "from libcom import get_composite_image\n",
    "from libcom.utils.process_image import make_image_grid\n",
    "import cv2\n",
    "bg_img  = '../tests/source/background/8351494f79f6bf8f_m03k3r_73176af9_08.png'\n",
    "bbox = [223, 104, 431, 481] # x1,y1,x2,y2\n",
    "fg_img  = '../tests/source/foreground/8351494f79f6bf8f_m03k3r_73176af9_08.png'\n",
    "fg_mask = '../tests/source/foreground_mask/8351494f79f6bf8f_m03k3r_73176af9_08.png'\n",
    "# generate composite images by naive methods\n",
    "img_list = [bg_img, fg_img]\n",
    "comp_img1, comp_mask1 = get_composite_image(fg_img, fg_mask, bg_img, bbox, 'none')\n",
    "comp_img2, comp_mask2 = get_composite_image(fg_img, fg_mask, bg_img, bbox, 'gaussian')\n",
    "comp_img3, comp_mask3 = get_composite_image(fg_img, fg_mask, bg_img, bbox, 'poisson')\n",
    "img_list += [comp_img1, comp_mask1, comp_img2, comp_mask2, comp_img3, comp_mask3]\n",
    "# visualization results\n",
    "grid_img  = make_image_grid(img_list, cols=4)\n",
    "cv2.imwrite('../docs/_static/image/generatecomposite_result1.jpg', grid_img)"
   ]
  },
  {
   "cell_type": "code",
   "execution_count": null,
   "metadata": {},
   "outputs": [],
   "source": [
    "# transfer foreground color to fit background scene.\n",
    "from libcom import color_transfer\n",
    "from libcom.utils.process_image import make_image_grid\n",
    "import cv2\n",
    "comp_img  = '../tests/source/composite/5b9e0751ca458cad_m0gjkl_40736b77_04.png'\n",
    "comp_mask = '../tests/source/composite_mask/5b9e0751ca458cad_m0gjkl_40736b77_04.png'\n",
    "trans_img = color_transfer(comp_img, comp_mask)\n",
    "# visualization results\n",
    "grid_img  = make_image_grid([comp_img, comp_mask, trans_img])\n",
    "cv2.imwrite('../docs/_static/image/colortransfer_result1.jpg', grid_img)"
   ]
  },
  {
   "cell_type": "code",
   "execution_count": null,
   "metadata": {},
   "outputs": [],
   "source": [
    "# predict harmony score for a composite image.\n",
    "from libcom import HarmonyScoreModel\n",
    "from libcom.utils.process_image import make_image_grid\n",
    "import cv2\n",
    "net = HarmonyScoreModel(device=0, model_type='BargainNet')\n",
    "comp_img  = '../tests/source/composite/1bb218825e370c51_m02p5f1q_4a9db762_30.png'\n",
    "comp_mask = '../tests/source/composite_mask/1bb218825e370c51_m02p5f1q_4a9db762_30.png'\n",
    "score     = net(comp_img, comp_mask)\n",
    "grid_img  = make_image_grid([comp_img, comp_mask], text_list=[f'harmony_score:{score:.2f}', 'composite-mask'])\n",
    "cv2.imwrite('../docs/_static/image/harmonyscore_result1.jpg', grid_img)"
   ]
  },
  {
   "cell_type": "code",
   "execution_count": null,
   "metadata": {},
   "outputs": [],
   "source": [
    "# Object Placement Assessment (OPA) score prediction\n",
    "from libcom import OPAScoreModel\n",
    "from libcom.utils.process_image import make_image_grid\n",
    "import cv2\n",
    "net = OPAScoreModel(device=0, model_type='SimOPA')\n",
    "comp_img  = '../tests/source/composite/1bb218825e370c51_m02p5f1q_4a9db762_30.png'\n",
    "comp_mask = '../tests/source/composite_mask/1bb218825e370c51_m02p5f1q_4a9db762_30.png'\n",
    "score = net(comp_img, comp_mask)\n",
    "grid_img  = make_image_grid([comp_img, comp_mask], text_list=[f'opa_score:{score:.2f}', 'composite-mask'])\n",
    "cv2.imwrite('../docs/_static/image/opascore_result1.jpg', grid_img)"
   ]
  },
  {
   "cell_type": "code",
   "execution_count": null,
   "metadata": {},
   "outputs": [],
   "source": [
    "# fos_score demo\n",
    "from libcom.utils.process_image import make_image_grid\n",
    "from libcom import FOSScoreModel\n",
    "import cv2\n",
    "MODEL_TYPE = 'FOS_D' # choose from 'FOS_D', 'FOS_E'\n",
    "background = '../tests/source/background/f80eda2459853824_m09g1w_b2413ec8_11.png'\n",
    "fg_bbox    = [175, 82, 309, 310] # x1,y1,x2,y2\n",
    "foreground = '../tests/source/foreground/f80eda2459853824_m09g1w_b2413ec8_11.png'\n",
    "foreground_mask = '../tests/source/foreground_mask/f80eda2459853824_m09g1w_b2413ec8_11.png'\n",
    "net        = FOSScoreModel(device=0, model_type=MODEL_TYPE)\n",
    "score      = net(background_image, foreground_image, bounding_box, foreground_mask=foreground_mask)\n",
    "grid_img   = make_image_grid([background_image, foreground_image, composite_image], text_list=[f'fos_score:{score:.2f}'])\n",
    "cv2.imshow('fos_score_demo', grid_img)"
   ]
  },
  {
   "cell_type": "code",
   "execution_count": null,
   "metadata": {},
   "outputs": [],
   "source": [
    "# controllable image composition\n",
    "from libcom import ControlComModel\n",
    "from libcom.utils.process_image import make_image_grid\n",
    "import cv2\n",
    "bg_img   = '../tests/source/background/f80eda2459853824_m09g1w_b2413ec8_11.png'\n",
    "fg_bbox  = [175, 82, 309, 310] # x1,y1,x2,y2\n",
    "fg_img   = '../tests/source/foreground/f80eda2459853824_m09g1w_b2413ec8_11.png'\n",
    "fg_mask  = '../tests/source/foreground_mask/f80eda2459853824_m09g1w_b2413ec8_11.png'\n",
    "net      = ControlComModel(device=0, model_type='ControlCom')\n",
    "comp_img = net(bg_img, fg_img, fg_bbox, fg_mask, task=['blending', 'harmonization'])\n",
    "grid_img = make_image_grid([bg_img, fg_img, comp_img[0], comp_img[1]])\n",
    "cv2.imwrite('../docs/_static/image/controlcom_result1.jpg', grid_img)"
   ]
  }
 ],
 "metadata": {
  "kernelspec": {
   "display_name": "Libcom",
   "language": "python",
   "name": "python3"
  },
  "language_info": {
   "codemirror_mode": {
    "name": "ipython",
    "version": 3
   },
   "file_extension": ".py",
   "mimetype": "text/x-python",
   "name": "python",
   "nbconvert_exporter": "python",
   "pygments_lexer": "ipython3",
   "version": "3.8.5"
  },
  "orig_nbformat": 4
 },
 "nbformat": 4,
 "nbformat_minor": 2
}
