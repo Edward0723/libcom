{
 "cells": [
  {
   "cell_type": "code",
   "execution_count": null,
   "metadata": {},
   "outputs": [],
   "source": [
    "import sys\n",
    "print(sys.executable)\n",
    "background = '../tests/source/background/8351494f79f6bf8f_m03k3r_73176af9_08.png'\n",
    "fg_bbox    = [223, 104, 431, 481] # x1,y1,x2,y2\n",
    "foreground = '../tests/source/foreground/8351494f79f6bf8f_m03k3r_73176af9_08.png'\n",
    "foreground_mask = '../tests/source/foreground_mask/8351494f79f6bf8f_m03k3r_73176af9_08.png'\n",
    "# generate composite images by naive methods\n",
    "from libcom import get_composite_image\n",
    "comp_img, comp_mask = get_composite_image(foreground, foreground_mask, background, fg_bbox, option='none') # option counld be 'none', 'gaussian', or 'poisson'\n",
    "# visualize composite results\n",
    "from libcom.utils.process_image import make_image_grid\n",
    "grid_img  = make_image_grid([background, foreground, comp_img, comp_mask])\n",
    "import cv2\n",
    "cv2.imshow('composite_image', grid_img)"
   ]
  }
 ],
 "metadata": {
  "kernelspec": {
   "display_name": "Libcom",
   "language": "python",
   "name": "python3"
  },
  "language_info": {
   "codemirror_mode": {
    "name": "ipython",
    "version": 3
   },
   "file_extension": ".py",
   "mimetype": "text/x-python",
   "name": "python",
   "nbconvert_exporter": "python",
   "pygments_lexer": "ipython3",
   "version": "3.8.5"
  },
  "orig_nbformat": 4
 },
 "nbformat": 4,
 "nbformat_minor": 2
}
